{
 "cells": [
  {
   "cell_type": "code",
   "execution_count": null,
   "id": "ef06217c",
   "metadata": {},
   "outputs": [],
   "source": [
    "       Programming_Assingment NO_5"
   ]
  },
  {
   "cell_type": "code",
   "execution_count": 1,
   "id": "d6ca3021",
   "metadata": {},
   "outputs": [
    {
     "name": "stdout",
     "output_type": "stream",
     "text": [
      "The LCM of 5,65 is 65\n",
      "The LCM of 2,78 is 78\n",
      "The LCM of 95,567 is 53865\n"
     ]
    }
   ],
   "source": [
    "Q.1. Write a Python Program to find LCM ?\n",
    "Answer:-\n",
    "def findTheLcm(x_term,y_term):\n",
    "    if x_term > y_term:\n",
    "        greater = x_term\n",
    "    else:\n",
    "        greater = x_term\n",
    "    while True:\n",
    "        if((greater%x_term == 0) and (greater%y_term == 0)):\n",
    "            lcm = greater\n",
    "            break\n",
    "        else:\n",
    "            greater +=1\n",
    "    print(f'The LCM of {x_term},{y_term} is {lcm}')\n",
    "    \n",
    "findTheLcm(5,65)\n",
    "findTheLcm(2,78)\n",
    "findTheLcm(95,567)\n"
   ]
  },
  {
   "cell_type": "code",
   "execution_count": 2,
   "id": "cfcf4eaf",
   "metadata": {},
   "outputs": [
    {
     "name": "stdout",
     "output_type": "stream",
     "text": [
      " The HCF of 45,90 is 45\n",
      " The HCF of 2,98 is 2\n",
      " The HCF of 89,786 is 1\n"
     ]
    }
   ],
   "source": [
    "Q2. Write a Python Program to find HCF ?\n",
    "Answer:-\n",
    "def findTheHcf(x_term,y_term):\n",
    "    if x_term>y_term:\n",
    "        smaller = y_term\n",
    "    else:\n",
    "        smaller = x_term\n",
    "    for ele in range(1,smaller+1):\n",
    "        if((x_term%ele == 0) and (y_term%ele == 0)):\n",
    "            hcf = ele\n",
    "    print(f' The HCF of {x_term},{y_term} is {hcf}')\n",
    "    \n",
    "    \n",
    "findTheHcf(45,90)\n",
    "findTheHcf(2,98)\n",
    "findTheHcf(89,786)\n"
   ]
  },
  {
   "cell_type": "code",
   "execution_count": 1,
   "id": "56f987d2",
   "metadata": {},
   "outputs": [
    {
     "name": "stdout",
     "output_type": "stream",
     "text": [
      "Enter a Number:9667\n",
      "Binary Number -> 0b10010111000011\n",
      "Octal Number -> 0o22703\n",
      "Hexadecimal Number -> 0x25c3\n"
     ]
    }
   ],
   "source": [
    "Q3. Write a Python Program to Convert Decimal to Binary, Octal and Hexadecimal ?\n",
    "Answer:-\n",
    "def DecimalToOther():\n",
    "    num = int(input(\"Enter a Number:\"))\n",
    "    print(f'Binary Number -> {bin(num)}')\n",
    "    print(f'Octal Number -> {oct(num)}')\n",
    "    print(f'Hexadecimal Number -> {hex(num)}')\n",
    "    \n",
    "DecimalToOther()"
   ]
  },
  {
   "cell_type": "code",
   "execution_count": 2,
   "id": "b871847a",
   "metadata": {},
   "outputs": [
    {
     "name": "stdout",
     "output_type": "stream",
     "text": [
      "Enter a Character:&\n",
      "Ascii Character of & is 38\n"
     ]
    }
   ],
   "source": [
    "Q4. Write a Python Program to Find the ASCII value of a Character ?\n",
    "Answer:-\n",
    "def charToAscii():\n",
    "    char = input('Enter a Character:')\n",
    "    if len(char) > 1:\n",
    "        print(\"Please Enter a single Character\")\n",
    "    else:\n",
    "        print(f'Ascii Character of {char} is {ord(char)}')\n",
    "\n",
    "charToAscii()"
   ]
  },
  {
   "cell_type": "code",
   "execution_count": 5,
   "id": "9be72917",
   "metadata": {},
   "outputs": [
    {
     "name": "stdout",
     "output_type": "stream",
     "text": [
      "Select a Arithmetic Operation:         \n",
      "1.Addition(+)        \n",
      "2.Division(-)        \n",
      "2.Multiplication(*)        \n",
      "4.Division(/)        \n",
      "3.Stop(0)\n",
      "\n",
      "Enter a arithmetic operation -> 1.Addition\n",
      "Please enter a valid operator\n",
      "Enter a arithmetic operation -> +\n",
      "\n",
      "Enter 1st Number: 76\n",
      "Enter 2nd Number: 93\n",
      "76+93=169\n",
      "\n",
      "Enter a arithmetic operation -> -\n",
      "\n",
      "Enter 1st Number: 76\n",
      "Enter 2nd Number: 34\n",
      "76-34=42\n",
      "\n",
      "Enter a arithmetic operation -> *\n",
      "\n",
      "Enter 1st Number: 34\n",
      "Enter 2nd Number: 93\n",
      "34*93=3162\n",
      "\n",
      "Enter a arithmetic operation -> /\n",
      "\n",
      "Enter 1st Number: 75\n",
      "Enter 2nd Number: 5\n",
      "75/5=15.0\n",
      "\n",
      "Enter a arithmetic operation -> 0\n",
      "Program Stopped successfully\n"
     ]
    }
   ],
   "source": [
    "Q5. Write a Python Program to Make a Simple Calculator with 4 Basic Mathematical operations ?\n",
    "Answer:-\n",
    "import operator\n",
    "\n",
    "ops = { \"+\": operator.add, \"-\": operator.sub, \"*\":operator.mul, \"/\":operator.truediv } \n",
    "\n",
    "print('Select a Arithmetic Operation: \\\n",
    "        \\n1.Addition(+)\\\n",
    "        \\n2.Division(-)\\\n",
    "        \\n2.Multiplication(*)\\\n",
    "        \\n4.Division(/)\\\n",
    "        \\n3.Stop(0)\\n')\n",
    "   \n",
    "\n",
    "while True:\n",
    "    operator = input('Enter a arithmetic operation -> ')\n",
    "    if operator == '0':\n",
    "        print(\"Program Stopped successfully\")\n",
    "        break\n",
    "    elif operator not in ['+','-','*','/']:\n",
    "        print(\"Please enter a valid operator\")\n",
    "    else:\n",
    "        num_1 = int(input('\\nEnter 1st Number: '))\n",
    "        num_2 = int(input('Enter 2nd Number: '))\n",
    "        print(f'{num_1}{operator}{num_2}={ops[operator](num_1,num_2)}\\n')"
   ]
  },
  {
   "cell_type": "code",
   "execution_count": null,
   "id": "f3341433",
   "metadata": {},
   "outputs": [],
   "source": []
  }
 ],
 "metadata": {
  "kernelspec": {
   "display_name": "Python 3 (ipykernel)",
   "language": "python",
   "name": "python3"
  },
  "language_info": {
   "codemirror_mode": {
    "name": "ipython",
    "version": 3
   },
   "file_extension": ".py",
   "mimetype": "text/x-python",
   "name": "python",
   "nbconvert_exporter": "python",
   "pygments_lexer": "ipython3",
   "version": "3.9.12"
  }
 },
 "nbformat": 4,
 "nbformat_minor": 5
}
